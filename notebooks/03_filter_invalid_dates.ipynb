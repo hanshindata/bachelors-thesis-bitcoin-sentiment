{
 "cells": [
  {
   "cell_type": "code",
   "execution_count": null,
   "id": "b1ec4e36-f70a-4e87-8aff-73231a59b67e",
   "metadata": {},
   "outputs": [],
   "source": [
    "# This script was originally written in Korean. Comments and string literals have been translated into English for wider accessibility and portfolio presentation.\n",
    "\n",
    "import pandas as pd\n",
    "import re\n",
    "\n",
    "# 1. Load data\n",
    "file_path = f\"../data/02_deduplicated_dc_bitcoin_data.csv\"\n",
    "df = pd.read_csv(file_path)\n",
    "\n",
    "# 2. Define the correct date format (regular expression)\n",
    "# Matches dates in YY.MM.DD format\n",
    "date_pattern = r\"^\\d{2}\\.\\d{2}\\.\\d{2}$\"\n",
    "\n",
    "# 3. Check if the 'Date' column values match the defined format.\n",
    "# The column name '작성일' is assumed to be 'Date' in the input CSV.\n",
    "df_filtered = df[df['Date'].apply(lambda x: bool(re.match(date_pattern, str(x))))]\n",
    "\n",
    "# 4. Save the filtered data.\n",
    "output_path = f\"../data/03_cleaned_dc_bitcoin_data.csv\"\n",
    "df_filtered.to_csv(output_path, index=False)\n",
    "\n",
    "print(f\"Cleaned data saved to '{output_path}'.\") # Changed from \"정리된 데이터가 '{output_path}'에 저장되었습니다.\""
   ]
  }
 ],
 "metadata": {
  "kernelspec": {
   "display_name": "Python 3 (ipykernel)",
   "language": "python",
   "name": "python3"
  },
  "language_info": {
   "codemirror_mode": {
    "name": "ipython",
    "version": 3
   },
   "file_extension": ".py",
   "mimetype": "text/x-python",
   "name": "python",
   "nbconvert_exporter": "python",
   "pygments_lexer": "ipython3",
   "version": "3.11.7"
  }
 },
 "nbformat": 4,
 "nbformat_minor": 5
}
