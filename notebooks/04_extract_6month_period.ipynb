{
 "cells": [
  {
   "cell_type": "code",
   "execution_count": null,
   "id": "d0fe2b76-2263-4bf3-b632-9f79bfefd64e",
   "metadata": {},
   "outputs": [],
   "source": [
    "# This script was originally written in Korean. Comments and string literals have been translated into English for wider accessibility.\n",
    "\n",
    "import pandas as pd\n",
    "\n",
    "# Input CSV file\n",
    "input_filename = \"03_cleaned_dc_bitcoin_data.csv\"\n",
    "input_file_path = f\"../data/{input_filename}\"\n",
    "\n",
    "# Output CSV file\n",
    "output_filename = \"04_6months_data.csv\"\n",
    "output_file_path = f\"../data/{output_filename}\"\n",
    "\n",
    "# Load data\n",
    "df = pd.read_csv(input_file_path)\n",
    "\n",
    "# Convert 'Date' column to datetime objects (specify format)\n",
    "# Assumes the '작성일' column was renamed to 'Date' in previous steps or input CSV.\n",
    "df['Date'] = pd.to_datetime(df['Date'], format=\"%y.%m.%d\") # Changed '작성일' to 'Date'\n",
    "\n",
    "# Filter for a specific period (24.04.01 ~ 24.09.30)\n",
    "start_date = \"2024-04-01\"  # Start date (yyyy-MM-dd)\n",
    "end_date = \"2024-09-30\"    # End date (yyyy-MM-dd)\n",
    "filtered_df = df[(df['Date'] >= start_date) & (df['Date'] <= end_date)] # Changed '작성일' to 'Date'\n",
    "\n",
    "# Print filtering results\n",
    "print(f\"Original data count: {len(df)}\") # Changed from \"원본 데이터 개수: {len(df)}\"\n",
    "print(f\"Filtered data count: {len(filtered_df)}\") # Changed from \"필터링된 데이터 개수: {len(filtered_df)}\"\n",
    "\n",
    "# Save the extracted data to a new CSV\n",
    "filtered_df.to_csv(output_file_path, index=False, encoding=\"utf-8-sig\")\n",
    "print(f\"Filtered data saved to '{output_file_path}'.\") # Changed from \"필터링된 데이터가 '{output_file}'에 저장되었습니다.\"\n"
   ]
  }
 ],
 "metadata": {
  "kernelspec": {
   "display_name": "base",
   "language": "python",
   "name": "python3"
  },
  "language_info": {
   "codemirror_mode": {
    "name": "ipython",
    "version": 3
   },
   "file_extension": ".py",
   "mimetype": "text/x-python",
   "name": "python",
   "nbconvert_exporter": "python",
   "pygments_lexer": "ipython3",
   "version": "3.12.7"
  }
 },
 "nbformat": 4,
 "nbformat_minor": 5
}
