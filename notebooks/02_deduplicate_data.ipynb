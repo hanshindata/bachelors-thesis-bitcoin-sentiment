{
 "cells": [
  {
   "cell_type": "code",
   "execution_count": null,
   "id": "cfe83b3e-5d00-48f3-b126-ce2009c9ab7e",
   "metadata": {},
   "outputs": [],
   "source": [
    "# This script was originally written in Korean. Comments and string literals have been translated into English for wider accessibility.\n",
    "\n",
    "import pandas as pd\n",
    "\n",
    "# Load the CSV file.\n",
    "file_path = f\"../data/01_dc_bitcoin_data.csv\"  # Path to the original CSV file\n",
    "data = pd.read_csv(file_path)\n",
    "\n",
    "# Remove duplicate posts based on 'Post_ID'.\n",
    "deduplicated_data = data.drop_duplicates(subset='Post_ID', keep='first') # Changed '게시물 번호' to 'Post_ID' for consistency\n",
    "\n",
    "# Save the deduplicated data.\n",
    "output_path = f\"../data/02_deduplicated_dc_bitcoin_data.csv\"  # Path to save the deduplicated CSV file\n",
    "deduplicated_data.to_csv(output_path, index=False)\n",
    "\n",
    "print(f\"Deduplicated data saved to {output_path}.\") # Changed from \"중복 제거된 데이터가 {output_path}에 저장되었습니다.\""
   ]
  },
 ],
 "metadata": {
  "kernelspec": {
   "display_name": "Python 3 (ipykernel)",
   "language": "python",
   "name": "python3"
  },
  "language_info": {
   "codemirror_mode": {
    "name": "ipython",
    "version": 3
   },
   "file_extension": ".py",
   "mimetype": "text/x-python",
   "name": "python",
   "nbconvert_exporter": "python",
   "pygments_lexer": "ipython3",
   "version": "3.11.7"
  }
 },
 "nbformat": 4,
 "nbformat_minor": 5
}
